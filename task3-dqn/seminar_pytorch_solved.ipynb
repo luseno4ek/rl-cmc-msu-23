{
  "cells": [
    {
      "cell_type": "markdown",
      "metadata": {
        "id": "kr_aKWMGEmh-"
      },
      "source": [
        "# Approximate q-learning\n",
        "\n",
        "In this notebook you will teach a __PyTorch__ neural network to do Q-learning."
      ]
    },
    {
      "cell_type": "code",
      "execution_count": 1,
      "metadata": {
        "id": "oaMu65ONEmh_",
        "colab": {
          "base_uri": "https://localhost:8080/"
        },
        "outputId": "b55ba41c-6cf7-4bdd-9287-4076ee292643"
      },
      "outputs": [
        {
          "output_type": "stream",
          "name": "stdout",
          "text": [
            "Selecting previously unselected package libfontenc1:amd64.\n",
            "(Reading database ... 120874 files and directories currently installed.)\n",
            "Preparing to unpack .../0-libfontenc1_1%3a1.1.4-1build3_amd64.deb ...\n",
            "Unpacking libfontenc1:amd64 (1:1.1.4-1build3) ...\n",
            "Selecting previously unselected package libxfont2:amd64.\n",
            "Preparing to unpack .../1-libxfont2_1%3a2.0.5-1build1_amd64.deb ...\n",
            "Unpacking libxfont2:amd64 (1:2.0.5-1build1) ...\n",
            "Selecting previously unselected package libxkbfile1:amd64.\n",
            "Preparing to unpack .../2-libxkbfile1_1%3a1.1.0-1build3_amd64.deb ...\n",
            "Unpacking libxkbfile1:amd64 (1:1.1.0-1build3) ...\n",
            "Selecting previously unselected package x11-xkb-utils.\n",
            "Preparing to unpack .../3-x11-xkb-utils_7.7+5build4_amd64.deb ...\n",
            "Unpacking x11-xkb-utils (7.7+5build4) ...\n",
            "Selecting previously unselected package xfonts-encodings.\n",
            "Preparing to unpack .../4-xfonts-encodings_1%3a1.0.5-0ubuntu2_all.deb ...\n",
            "Unpacking xfonts-encodings (1:1.0.5-0ubuntu2) ...\n",
            "Selecting previously unselected package xfonts-utils.\n",
            "Preparing to unpack .../5-xfonts-utils_1%3a7.7+6build2_amd64.deb ...\n",
            "Unpacking xfonts-utils (1:7.7+6build2) ...\n",
            "Selecting previously unselected package xfonts-base.\n",
            "Preparing to unpack .../6-xfonts-base_1%3a1.0.5_all.deb ...\n",
            "Unpacking xfonts-base (1:1.0.5) ...\n",
            "Selecting previously unselected package xserver-common.\n",
            "Preparing to unpack .../7-xserver-common_2%3a21.1.4-2ubuntu1.7~22.04.1_all.deb ...\n",
            "Unpacking xserver-common (2:21.1.4-2ubuntu1.7~22.04.1) ...\n",
            "Selecting previously unselected package xvfb.\n",
            "Preparing to unpack .../8-xvfb_2%3a21.1.4-2ubuntu1.7~22.04.1_amd64.deb ...\n",
            "Unpacking xvfb (2:21.1.4-2ubuntu1.7~22.04.1) ...\n",
            "Setting up libfontenc1:amd64 (1:1.1.4-1build3) ...\n",
            "Setting up xfonts-encodings (1:1.0.5-0ubuntu2) ...\n",
            "Setting up libxkbfile1:amd64 (1:1.1.0-1build3) ...\n",
            "Setting up libxfont2:amd64 (1:2.0.5-1build1) ...\n",
            "Setting up x11-xkb-utils (7.7+5build4) ...\n",
            "Setting up xfonts-utils (1:7.7+6build2) ...\n",
            "Setting up xfonts-base (1:1.0.5) ...\n",
            "Setting up xserver-common (2:21.1.4-2ubuntu1.7~22.04.1) ...\n",
            "Setting up xvfb (2:21.1.4-2ubuntu1.7~22.04.1) ...\n",
            "Processing triggers for man-db (2.10.2-1) ...\n",
            "Processing triggers for fontconfig (2.13.1-4.2ubuntu5) ...\n",
            "Processing triggers for libc-bin (2.35-0ubuntu3.1) ...\n",
            "/sbin/ldconfig.real: /usr/local/lib/libtbbmalloc_proxy.so.2 is not a symbolic link\n",
            "\n",
            "/sbin/ldconfig.real: /usr/local/lib/libtbbbind_2_5.so.3 is not a symbolic link\n",
            "\n",
            "/sbin/ldconfig.real: /usr/local/lib/libtbbmalloc.so.2 is not a symbolic link\n",
            "\n",
            "/sbin/ldconfig.real: /usr/local/lib/libtbb.so.12 is not a symbolic link\n",
            "\n",
            "/sbin/ldconfig.real: /usr/local/lib/libtbbbind.so.3 is not a symbolic link\n",
            "\n",
            "/sbin/ldconfig.real: /usr/local/lib/libtbbbind_2_0.so.3 is not a symbolic link\n",
            "\n",
            "Starting virtual X frame buffer: Xvfb.\n"
          ]
        }
      ],
      "source": [
        "import sys, os\n",
        "if 'google.colab' in sys.modules and not os.path.exists('.setup_complete'):\n",
        "    !wget -q https://raw.githubusercontent.com/yandexdataschool/Practical_RL/master/setup_colab.sh -O- | bash\n",
        "    !touch .setup_complete\n",
        "\n",
        "# This code creates a virtual display to draw game images on.\n",
        "# It will have no effect if your machine has a monitor.\n",
        "if type(os.environ.get(\"DISPLAY\")) is not str or len(os.environ.get(\"DISPLAY\")) == 0:\n",
        "    !bash ../xvfb start\n",
        "    os.environ['DISPLAY'] = ':1'"
      ]
    },
    {
      "cell_type": "code",
      "execution_count": 2,
      "metadata": {
        "id": "avILCRKkEpaX",
        "colab": {
          "base_uri": "https://localhost:8080/"
        },
        "outputId": "4d11df6e-ad63-4203-c1d4-12ea67b708d6"
      },
      "outputs": [
        {
          "output_type": "stream",
          "name": "stdout",
          "text": [
            "Collecting gymnasium[classic_control]\n",
            "  Downloading gymnasium-0.29.1-py3-none-any.whl (953 kB)\n",
            "\u001b[2K     \u001b[90m━━━━━━━━━━━━━━━━━━━━━━━━━━━━━━━━━━━━━━━━\u001b[0m \u001b[32m953.9/953.9 kB\u001b[0m \u001b[31m6.8 MB/s\u001b[0m eta \u001b[36m0:00:00\u001b[0m\n",
            "\u001b[?25hRequirement already satisfied: numpy>=1.21.0 in /usr/local/lib/python3.10/dist-packages (from gymnasium[classic_control]) (1.23.5)\n",
            "Requirement already satisfied: cloudpickle>=1.2.0 in /usr/local/lib/python3.10/dist-packages (from gymnasium[classic_control]) (2.2.1)\n",
            "Requirement already satisfied: typing-extensions>=4.3.0 in /usr/local/lib/python3.10/dist-packages (from gymnasium[classic_control]) (4.5.0)\n",
            "Collecting farama-notifications>=0.0.1 (from gymnasium[classic_control])\n",
            "  Downloading Farama_Notifications-0.0.4-py3-none-any.whl (2.5 kB)\n",
            "Requirement already satisfied: pygame>=2.1.3 in /usr/local/lib/python3.10/dist-packages (from gymnasium[classic_control]) (2.5.2)\n",
            "Installing collected packages: farama-notifications, gymnasium\n",
            "Successfully installed farama-notifications-0.0.4 gymnasium-0.29.1\n"
          ]
        }
      ],
      "source": [
        "!pip install gymnasium[classic_control]"
      ]
    },
    {
      "cell_type": "code",
      "execution_count": 3,
      "metadata": {
        "id": "K_SRk2ASEmh_"
      },
      "outputs": [],
      "source": [
        "import gymnasium as gym\n",
        "import numpy as np\n",
        "import pandas as pd\n",
        "import matplotlib.pyplot as plt\n",
        "%matplotlib inline"
      ]
    },
    {
      "cell_type": "code",
      "execution_count": 4,
      "metadata": {
        "id": "x2YvkgprEmh_",
        "colab": {
          "base_uri": "https://localhost:8080/",
          "height": 451
        },
        "outputId": "5e59b332-8a46-4db6-8066-3e51f10bcd3d"
      },
      "outputs": [
        {
          "output_type": "stream",
          "name": "stderr",
          "text": [
            "/usr/local/lib/python3.10/dist-packages/gymnasium/envs/registration.py:513: DeprecationWarning: \u001b[33mWARN: The environment CartPole-v0 is out of date. You should consider upgrading to version `v1`.\u001b[0m\n",
            "  logger.deprecation(\n"
          ]
        },
        {
          "output_type": "display_data",
          "data": {
            "text/plain": [
              "<Figure size 640x480 with 1 Axes>"
            ],
            "image/png": "[encoded data removed]"
          },
          "metadata": {}
        }
      ],
      "source": [
        "env = gym.make(\"CartPole-v0\", render_mode=\"rgb_array\").env\n",
        "env.reset()\n",
        "n_actions = env.action_space.n\n",
        "state_dim = env.observation_space.shape\n",
        "\n",
        "plt.imshow(env.render())\n",
        "env.close()"
      ]
    },
    {
      "cell_type": "markdown",
      "metadata": {
        "id": "sI8W19CwEmh_"
      },
      "source": [
        "# Approximate Q-learning: building the network\n",
        "\n",
        "To train a neural network policy one must have a neural network policy. Let's build it.\n",
        "\n",
        "\n",
        "Since we're working with a pre-extracted features (cart positions, angles and velocities), we don't need a complicated network yet. In fact, let's build something like this for starters:\n",
        "\n",
        "![img](https://raw.githubusercontent.com/yandexdataschool/Practical_RL/master/yet_another_week/_resource/qlearning_scheme.png)\n",
        "\n",
        "For your first run, please only use linear layers (`nn.Linear`) and activations. Stuff like batch normalization or dropout may ruin everything if used haphazardly.\n",
        "\n",
        "Also please avoid using nonlinearities like sigmoid & tanh: since agent's observations are not normalized, sigmoids might be saturated at initialization. Instead, use non-saturating nonlinearities like ReLU.\n",
        "\n",
        "Ideally you should start small with maybe 1-2 hidden layers with < 200 neurons and then increase network size if agent doesn't beat the target score."
      ]
    },
    {
      "cell_type": "code",
      "execution_count": 6,
      "metadata": {
        "id": "YdWXv8WJEmiA"
      },
      "outputs": [],
      "source": [
        "import torch\n",
        "import torch.nn as nn\n",
        "import torch.nn.functional as F"
      ]
    },
    {
      "cell_type": "code",
      "execution_count": 42,
      "metadata": {
        "id": "y2-PcaIQEmiA",
        "colab": {
          "base_uri": "https://localhost:8080/"
        },
        "outputId": "d06b0749-a621-4db5-cadd-993e11b7e452"
      },
      "outputs": [
        {
          "output_type": "execute_result",
          "data": {
            "text/plain": [
              "Sequential(\n",
              "  (0): Linear(in_features=4, out_features=64, bias=True)\n",
              "  (1): ReLU()\n",
              "  (2): Linear(in_features=64, out_features=128, bias=True)\n",
              "  (3): ReLU()\n",
              "  (4): Linear(in_features=128, out_features=256, bias=True)\n",
              "  (5): ReLU()\n",
              "  (6): Linear(in_features=256, out_features=128, bias=True)\n",
              "  (7): ReLU()\n",
              "  (8): Linear(in_features=128, out_features=64, bias=True)\n",
              "  (9): ReLU()\n",
              "  (10): Linear(in_features=64, out_features=2, bias=True)\n",
              ")"
            ]
          },
          "metadata": {},
          "execution_count": 42
        }
      ],
      "source": [
        "network = nn.Sequential(\n",
        "    nn.Linear(state_dim[0], 64),\n",
        "    nn.ReLU(),\n",
        "    nn.Linear(64, 128),\n",
        "    nn.ReLU(),\n",
        "    nn.Linear(128, 256),\n",
        "    nn.ReLU(),\n",
        "    nn.Linear(256, 128),\n",
        "    nn.ReLU(),\n",
        "    nn.Linear(128, 64),\n",
        "    nn.ReLU(),\n",
        "    nn.Linear(64, n_actions)\n",
        ")\n",
        "\n",
        "device = 'cuda' if torch.cuda.is_available() else 'cpu'\n",
        "network.to(device)"
      ]
    },
    {
      "cell_type": "code",
      "execution_count": 43,
      "metadata": {
        "id": "8xuWPGriEmiA"
      },
      "outputs": [],
      "source": [
        "def get_action(state, epsilon=0):\n",
        "    \"\"\"\n",
        "    sample actions with epsilon-greedy policy\n",
        "    recap: with p = epsilon pick random action, else pick action with highest Q(s,a)\n",
        "    \"\"\"\n",
        "    state = torch.tensor(state[None], dtype=torch.float32)\n",
        "    q_values = network(state).detach().numpy()\n",
        "\n",
        "    action_probas = [epsilon / n_actions for _ in range(n_actions)]\n",
        "    action_probas[np.argmax(q_values)] += 1 - epsilon\n",
        "\n",
        "    return int(np.random.choice(np.arange(n_actions), p=action_probas))"
      ]
    },
    {
      "cell_type": "code",
      "execution_count": 44,
      "metadata": {
        "id": "wroEfSRNEmiA",
        "colab": {
          "base_uri": "https://localhost:8080/"
        },
        "outputId": "da429235-6d2c-407a-ede2-3e89f6c565c0"
      },
      "outputs": [
        {
          "output_type": "stream",
          "name": "stdout",
          "text": [
            "e=0.0 tests passed\n",
            "e=0.1 tests passed\n",
            "e=0.5 tests passed\n",
            "e=1.0 tests passed\n"
          ]
        }
      ],
      "source": [
        "s, _ = env.reset()\n",
        "assert tuple(network(torch.tensor([s]*3, dtype=torch.float32)).size()) == (\n",
        "    3, n_actions), \"please make sure your model maps state s -> [Q(s,a0), ..., Q(s, a_last)]\"\n",
        "assert isinstance(list(network.modules(\n",
        "))[-1], nn.Linear), \"please make sure you predict q-values without nonlinearity (ignore if you know what you're doing)\"\n",
        "assert isinstance(get_action(s), int), \"get_action(s) must return int, not %s. try int(action)\" % (type(get_action(s)))\n",
        "\n",
        "# test epsilon-greedy exploration\n",
        "for eps in [0., 0.1, 0.5, 1.0]:\n",
        "    state_frequencies = np.bincount(\n",
        "        [get_action(s, epsilon=eps) for i in range(10000)], minlength=n_actions)\n",
        "    best_action = state_frequencies.argmax()\n",
        "    assert abs(state_frequencies[best_action] -\n",
        "               10000 * (1 - eps + eps / n_actions)) < 200\n",
        "    for other_action in range(n_actions):\n",
        "        if other_action != best_action:\n",
        "            assert abs(state_frequencies[other_action] -\n",
        "                       10000 * (eps / n_actions)) < 200\n",
        "    print('e=%.1f tests passed' % eps)"
      ]
    },
    {
      "cell_type": "markdown",
      "metadata": {
        "id": "f88ovLBQEmiA"
      },
      "source": [
        "### Q-learning via gradient descent\n",
        "\n",
        "We shall now train our agent's Q-function by minimizing the TD loss:\n",
        "$$ L = { 1 \\over N} \\sum_i (Q_{\\theta}(s,a) - [r(s,a) + \\gamma \\cdot max_{a'} Q_{-}(s', a')]) ^2 $$\n",
        "\n",
        "\n",
        "Where\n",
        "* $s, a, r, s'$ are current state, action, reward and next state respectively\n",
        "* $\\gamma$ is a discount factor defined two cells above.\n",
        "\n",
        "The tricky part is with  $Q_{-}(s',a')$. From an engineering standpoint, it's the same as $Q_{\\theta}$ - the output of your neural network policy. However, when doing gradient descent, __we won't propagate gradients through it__ to make training more stable (see lectures).\n",
        "\n",
        "To do so, we shall use `x.detach()` function which basically says \"consider this thing constant when doing backprop\"."
      ]
    },
    {
      "cell_type": "code",
      "execution_count": 45,
      "metadata": {
        "id": "bOIpO142EmiB"
      },
      "outputs": [],
      "source": [
        "def compute_td_loss(states, actions, rewards, next_states, is_done, gamma=0.99, check_shapes=False):\n",
        "    \"\"\" Compute td loss using torch operations only. Use the formula above. \"\"\"\n",
        "    states = torch.tensor(\n",
        "        states, dtype=torch.float32)                                  # shape: [batch_size, state_size]\n",
        "    actions = torch.tensor(actions, dtype=torch.long)                 # shape: [batch_size]\n",
        "    rewards = torch.tensor(rewards, dtype=torch.float32)              # shape: [batch_size]\n",
        "    # shape: [batch_size, state_size]\n",
        "    next_states = torch.tensor(next_states, dtype=torch.float32)\n",
        "    is_done = torch.tensor(is_done, dtype=torch.uint8)                # shape: [batch_size]\n",
        "\n",
        "    # get q-values for all actions in current states\n",
        "    predicted_qvalues = network(states)                               # shape: [batch_size, n_actions]\n",
        "\n",
        "    # select q-values for chosen actions\n",
        "    predicted_qvalues_for_actions = predicted_qvalues[                # shape: [batch_size]\n",
        "      range(states.shape[0]), actions\n",
        "    ]\n",
        "\n",
        "    # compute q-values for all actions in next states\n",
        "    predicted_next_qvalues = network(next_states)\n",
        "\n",
        "    # compute V*(next_states) using predicted next q-values\n",
        "    next_state_values = torch.max(predicted_next_qvalues.data, dim=1).values\n",
        "    assert next_state_values.dtype == torch.float32\n",
        "\n",
        "    # compute \"target q-values\" for loss - it's what's inside square parentheses in the above formula.\n",
        "    target_qvalues_for_actions = rewards + gamma * next_state_values\n",
        "\n",
        "    # at the last state we shall use simplified formula: Q(s,a) = r(s,a) since s' doesn't exist\n",
        "    target_qvalues_for_actions = torch.where(\n",
        "        is_done, rewards, target_qvalues_for_actions)\n",
        "\n",
        "    # mean squared error loss to minimize\n",
        "    loss = torch.mean((predicted_qvalues_for_actions -\n",
        "                       target_qvalues_for_actions.detach()) ** 2)\n",
        "\n",
        "    if check_shapes:\n",
        "        assert predicted_next_qvalues.data.dim(\n",
        "        ) == 2, \"make sure you predicted q-values for all actions in next state\"\n",
        "        assert next_state_values.data.dim(\n",
        "        ) == 1, \"make sure you computed V(s') as maximum over just the actions axis and not all axes\"\n",
        "        assert target_qvalues_for_actions.data.dim(\n",
        "        ) == 1, \"there's something wrong with target q-values, they must be a vector\"\n",
        "\n",
        "    return loss"
      ]
    },
    {
      "cell_type": "code",
      "execution_count": 46,
      "metadata": {
        "id": "lKi6AK3DEmiB"
      },
      "outputs": [],
      "source": [
        "# sanity checks\n",
        "s, _ = env.reset()\n",
        "a = env.action_space.sample()\n",
        "next_s, r, terminated, _, _ = env.step(a)\n",
        "loss = compute_td_loss([s], [a], [r], [next_s], [terminated], check_shapes=True)\n",
        "loss.backward()\n",
        "\n",
        "assert len(loss.size()) == 0, \"you must return scalar loss - mean over batch\"\n",
        "assert np.any(next(network.parameters()).grad.detach().numpy() !=\n",
        "              0), \"loss must be differentiable w.r.t. network weights\""
      ]
    },
    {
      "cell_type": "markdown",
      "metadata": {
        "id": "LgL6G5lFEmiB"
      },
      "source": [
        "### Playing the game"
      ]
    },
    {
      "cell_type": "code",
      "execution_count": 47,
      "metadata": {
        "id": "zsHb_fjjEmiB"
      },
      "outputs": [],
      "source": [
        "opt = torch.optim.Adam(network.parameters(), lr=1e-4)"
      ]
    },
    {
      "cell_type": "code",
      "execution_count": 48,
      "metadata": {
        "id": "nJ_-xtsjEmiB"
      },
      "outputs": [],
      "source": [
        "def generate_session(env, t_max=1000, epsilon=0, train=False):\n",
        "    \"\"\"play env with approximate q-learning agent and train it at the same time\"\"\"\n",
        "    total_reward = 0\n",
        "    s, _ = env.reset()\n",
        "\n",
        "    for t in range(t_max):\n",
        "        a = get_action(s, epsilon=epsilon)\n",
        "        next_s, r, terminated, truncated, _ = env.step(a)\n",
        "\n",
        "        if train:\n",
        "            opt.zero_grad()\n",
        "            compute_td_loss([s], [a], [r], [next_s], [terminated]).backward()\n",
        "            opt.step()\n",
        "\n",
        "        total_reward += r\n",
        "        s = next_s\n",
        "        if terminated or truncated:\n",
        "            break\n",
        "\n",
        "    return total_reward"
      ]
    },
    {
      "cell_type": "code",
      "execution_count": 49,
      "metadata": {
        "id": "40mKYuVIEmiB"
      },
      "outputs": [],
      "source": [
        "epsilon = 0.5"
      ]
    },
    {
      "cell_type": "code",
      "execution_count": 50,
      "metadata": {
        "id": "EXy8ij00EmiB",
        "colab": {
          "base_uri": "https://localhost:8080/"
        },
        "outputId": "1f1eea6b-132d-451d-acaf-ea2b2f47e310"
      },
      "outputs": [
        {
          "output_type": "stream",
          "name": "stdout",
          "text": [
            "epoch #0\tmean reward = 14.250\tepsilon = 0.500\n",
            "epoch #1\tmean reward = 15.450\tepsilon = 0.495\n",
            "epoch #2\tmean reward = 25.290\tepsilon = 0.490\n",
            "epoch #3\tmean reward = 41.230\tepsilon = 0.485\n",
            "epoch #4\tmean reward = 73.840\tepsilon = 0.480\n",
            "epoch #5\tmean reward = 89.430\tepsilon = 0.475\n",
            "epoch #6\tmean reward = 105.740\tepsilon = 0.471\n",
            "epoch #7\tmean reward = 85.120\tepsilon = 0.466\n",
            "epoch #8\tmean reward = 65.940\tepsilon = 0.461\n",
            "epoch #9\tmean reward = 117.540\tepsilon = 0.457\n",
            "epoch #10\tmean reward = 173.080\tepsilon = 0.452\n",
            "epoch #11\tmean reward = 192.350\tepsilon = 0.448\n",
            "epoch #12\tmean reward = 188.630\tepsilon = 0.443\n",
            "epoch #13\tmean reward = 194.480\tepsilon = 0.439\n",
            "epoch #14\tmean reward = 214.260\tepsilon = 0.434\n",
            "epoch #15\tmean reward = 227.990\tepsilon = 0.430\n",
            "epoch #16\tmean reward = 177.630\tepsilon = 0.426\n",
            "epoch #17\tmean reward = 174.030\tepsilon = 0.421\n",
            "epoch #18\tmean reward = 146.160\tepsilon = 0.417\n",
            "epoch #19\tmean reward = 195.900\tepsilon = 0.413\n",
            "epoch #20\tmean reward = 189.490\tepsilon = 0.409\n",
            "epoch #21\tmean reward = 172.170\tepsilon = 0.405\n",
            "epoch #22\tmean reward = 135.870\tepsilon = 0.401\n",
            "epoch #23\tmean reward = 175.360\tepsilon = 0.397\n",
            "epoch #24\tmean reward = 166.250\tepsilon = 0.393\n",
            "epoch #25\tmean reward = 178.210\tepsilon = 0.389\n",
            "epoch #26\tmean reward = 180.620\tepsilon = 0.385\n",
            "epoch #27\tmean reward = 203.040\tepsilon = 0.381\n",
            "epoch #28\tmean reward = 165.770\tepsilon = 0.377\n",
            "epoch #29\tmean reward = 145.860\tepsilon = 0.374\n",
            "epoch #30\tmean reward = 202.500\tepsilon = 0.370\n",
            "epoch #31\tmean reward = 214.940\tepsilon = 0.366\n",
            "epoch #32\tmean reward = 205.780\tepsilon = 0.362\n",
            "epoch #33\tmean reward = 198.920\tepsilon = 0.359\n",
            "epoch #34\tmean reward = 131.800\tepsilon = 0.355\n",
            "epoch #35\tmean reward = 215.710\tepsilon = 0.352\n",
            "epoch #36\tmean reward = 168.770\tepsilon = 0.348\n",
            "epoch #37\tmean reward = 184.180\tepsilon = 0.345\n",
            "epoch #38\tmean reward = 122.240\tepsilon = 0.341\n",
            "epoch #39\tmean reward = 229.910\tepsilon = 0.338\n",
            "epoch #40\tmean reward = 216.030\tepsilon = 0.334\n",
            "epoch #41\tmean reward = 202.710\tepsilon = 0.331\n",
            "epoch #42\tmean reward = 236.560\tepsilon = 0.328\n",
            "epoch #43\tmean reward = 178.200\tepsilon = 0.325\n",
            "epoch #44\tmean reward = 206.290\tepsilon = 0.321\n",
            "epoch #45\tmean reward = 166.730\tepsilon = 0.318\n",
            "epoch #46\tmean reward = 160.390\tepsilon = 0.315\n",
            "epoch #47\tmean reward = 162.310\tepsilon = 0.312\n",
            "epoch #48\tmean reward = 150.050\tepsilon = 0.309\n",
            "epoch #49\tmean reward = 102.210\tepsilon = 0.306\n",
            "epoch #50\tmean reward = 227.140\tepsilon = 0.303\n",
            "epoch #51\tmean reward = 246.790\tepsilon = 0.299\n",
            "epoch #52\tmean reward = 199.940\tepsilon = 0.296\n",
            "epoch #53\tmean reward = 256.500\tepsilon = 0.294\n",
            "epoch #54\tmean reward = 323.610\tepsilon = 0.291\n",
            "You Win!\n"
          ]
        }
      ],
      "source": [
        "for i in range(1000):\n",
        "    session_rewards = [generate_session(env, epsilon=epsilon, train=True) for _ in range(100)]\n",
        "    print(\"epoch #{}\\tmean reward = {:.3f}\\tepsilon = {:.3f}\".format(i, np.mean(session_rewards), epsilon))\n",
        "\n",
        "    epsilon *= 0.99\n",
        "    assert epsilon >= 1e-4, \"Make sure epsilon is always nonzero during training\"\n",
        "\n",
        "    if np.mean(session_rewards) > 300:\n",
        "        print(\"You Win!\")\n",
        "        break"
      ]
    },
    {
      "cell_type": "markdown",
      "metadata": {
        "id": "XJPoF9XtEmiB"
      },
      "source": [
        "### How to interpret results\n",
        "\n",
        "\n",
        "Welcome to the f.. world of deep f...n reinforcement learning. Don't expect agent's reward to smoothly go up. Hope for it to go increase eventually. If it deems you worthy.\n",
        "\n",
        "Seriously though,\n",
        "* __ mean reward__ is the average reward per game. For a correct implementation it may stay low for some 10 epochs, then start growing while oscilating insanely and converges by ~50-100 steps depending on the network architecture.\n",
        "* If it never reaches target score by the end of for loop, try increasing the number of hidden neurons or look at the epsilon.\n",
        "* __ epsilon__ - agent's willingness to explore. If you see that agent's already at < 0.01 epsilon before it's is at least 200, just reset it back to 0.1 - 0.5."
      ]
    },
    {
      "cell_type": "markdown",
      "metadata": {
        "id": "lhKiN-qOEmiB"
      },
      "source": [
        "### Record videos\n",
        "\n",
        "As usual, we now use `gymnasium.wrappers.RecordVideo` to record a video of our agent playing the game. Unlike our previous attempts with state binarization, this time we expect our agent to act ~~(or fail)~~ more smoothly since there's no more binarization error at play.\n",
        "\n",
        "As you already did with tabular q-learning, we set epsilon=0 for final evaluation to prevent agent from exploring himself to death."
      ]
    },
    {
      "cell_type": "code",
      "execution_count": 51,
      "metadata": {
        "id": "2yqPkj6HEmiB",
        "colab": {
          "base_uri": "https://localhost:8080/"
        },
        "outputId": "de550723-e644-4b93-e0c2-1156b6dff1ba"
      },
      "outputs": [
        {
          "output_type": "stream",
          "name": "stderr",
          "text": [
            "/usr/local/lib/python3.10/dist-packages/gymnasium/envs/registration.py:513: DeprecationWarning: \u001b[33mWARN: The environment CartPole-v0 is out of date. You should consider upgrading to version `v1`.\u001b[0m\n",
            "  logger.deprecation(\n"
          ]
        },
        {
          "output_type": "stream",
          "name": "stdout",
          "text": [
            "Moviepy - Building video /content/videos/rl-video-episode-0.mp4.\n",
            "Moviepy - Writing video /content/videos/rl-video-episode-0.mp4\n",
            "\n"
          ]
        },
        {
          "output_type": "stream",
          "name": "stderr",
          "text": []
        },
        {
          "output_type": "stream",
          "name": "stdout",
          "text": [
            "Moviepy - Done !\n",
            "Moviepy - video ready /content/videos/rl-video-episode-0.mp4\n",
            "Moviepy - Building video /content/videos/rl-video-episode-1.mp4.\n",
            "Moviepy - Writing video /content/videos/rl-video-episode-1.mp4\n",
            "\n"
          ]
        },
        {
          "output_type": "stream",
          "name": "stderr",
          "text": []
        },
        {
          "output_type": "stream",
          "name": "stdout",
          "text": [
            "Moviepy - Done !\n",
            "Moviepy - video ready /content/videos/rl-video-episode-1.mp4\n",
            "Moviepy - Building video /content/videos/rl-video-episode-8.mp4.\n",
            "Moviepy - Writing video /content/videos/rl-video-episode-8.mp4\n",
            "\n"
          ]
        },
        {
          "output_type": "stream",
          "name": "stderr",
          "text": []
        },
        {
          "output_type": "stream",
          "name": "stdout",
          "text": [
            "Moviepy - Done !\n",
            "Moviepy - video ready /content/videos/rl-video-episode-8.mp4\n",
            "Moviepy - Building video /content/videos/rl-video-episode-27.mp4.\n",
            "Moviepy - Writing video /content/videos/rl-video-episode-27.mp4\n",
            "\n"
          ]
        },
        {
          "output_type": "stream",
          "name": "stderr",
          "text": []
        },
        {
          "output_type": "stream",
          "name": "stdout",
          "text": [
            "Moviepy - Done !\n",
            "Moviepy - video ready /content/videos/rl-video-episode-27.mp4\n",
            "Moviepy - Building video /content/videos/rl-video-episode-64.mp4.\n",
            "Moviepy - Writing video /content/videos/rl-video-episode-64.mp4\n",
            "\n"
          ]
        },
        {
          "output_type": "stream",
          "name": "stderr",
          "text": []
        },
        {
          "output_type": "stream",
          "name": "stdout",
          "text": [
            "Moviepy - Done !\n",
            "Moviepy - video ready /content/videos/rl-video-episode-64.mp4\n"
          ]
        }
      ],
      "source": [
        "# Record sessions\n",
        "\n",
        "from gymnasium.wrappers import RecordVideo\n",
        "\n",
        "with gym.make(\"CartPole-v0\", render_mode=\"rgb_array\") as record_env, RecordVideo(\n",
        "    record_env, video_folder=\"videos\"\n",
        ") as env_monitor:\n",
        "    sessions = [\n",
        "        generate_session(env_monitor, epsilon=0, train=False) for _ in range(100)\n",
        "    ]\n"
      ]
    },
    {
      "cell_type": "code",
      "execution_count": 52,
      "metadata": {
        "id": "afqi2qomEmiC",
        "colab": {
          "base_uri": "https://localhost:8080/",
          "height": 502
        },
        "outputId": "56673c87-0b72-4779-e43f-94edc3dabc52"
      },
      "outputs": [
        {
          "output_type": "execute_result",
          "data": {
            "text/plain": [
              "<IPython.core.display.HTML object>"
            ],
            "text/html": [
              "\n",
              "<video width=\"640\" height=\"480\" controls>\n",
              "  <source src=\"data:video/mp4;base64,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\" type=\"video/mp4\">\n",
              "</video>\n"
            ]
          },
          "metadata": {},
          "execution_count": 52
        }
      ],
      "source": [
        "# Show video. This may not work in some setups. If it doesn't\n",
        "# work for you, you can download the videos and view them locally.\n",
        "\n",
        "from pathlib import Path\n",
        "from base64 import b64encode\n",
        "from IPython.display import HTML\n",
        "\n",
        "video_paths = sorted([s for s in Path('videos').iterdir() if s.suffix == '.mp4'])\n",
        "video_path = video_paths[-1]  # You can also try other indices\n",
        "\n",
        "if 'google.colab' in sys.modules:\n",
        "    # https://stackoverflow.com/a/57378660/1214547\n",
        "    with video_path.open('rb') as fp:\n",
        "        mp4 = fp.read()\n",
        "    data_url = 'data:video/mp4;base64,' + b64encode(mp4).decode()\n",
        "else:\n",
        "    data_url = str(video_path)\n",
        "\n",
        "HTML(\"\"\"\n",
        "<video width=\"640\" height=\"480\" controls>\n",
        "  <source src=\"{}\" type=\"video/mp4\">\n",
        "</video>\n",
        "\"\"\".format(data_url))"
      ]
    }
  ],
  "metadata": {
    "colab": {
      "provenance": []
    },
    "kernelspec": {
      "display_name": "Python 3",
      "name": "python3"
    },
    "language_info": {
      "name": "python"
    }
  },
  "nbformat": 4,
  "nbformat_minor": 0
}